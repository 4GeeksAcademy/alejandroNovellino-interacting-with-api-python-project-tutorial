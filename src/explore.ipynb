{
    "cells": [
        {
            "cell_type": "markdown",
            "metadata": {},
            "source": [
                "# Explore here"
            ]
        },
        {
            "cell_type": "code",
            "execution_count": 12,
            "metadata": {},
            "outputs": [],
            "source": [
                "import pandas as pd\n",
                "import seaborn as sns\n",
                "import spotipy # type: ignore\n",
                "\n",
                "from app import get_spotipy_instance, get_artist_tracks"
            ]
        },
        {
            "cell_type": "markdown",
            "metadata": {},
            "source": [
                "## Get the spotify client"
            ]
        },
        {
            "cell_type": "code",
            "execution_count": 13,
            "metadata": {},
            "outputs": [],
            "source": [
                "# spotipy client ready to use\n",
                "spotify: spotipy.Spotify = get_spotipy_instance()"
            ]
        },
        {
            "cell_type": "markdown",
            "metadata": {},
            "source": [
                "## Get the artist best 10 tracks"
            ]
        },
        {
            "cell_type": "code",
            "execution_count": 14,
            "metadata": {},
            "outputs": [],
            "source": [
                "# artist to get the songs\n",
                "# id of imagine dragons\n",
                "imagine_dragons_id = \"53XhwfbYqKCa1cC15pYq2q\""
            ]
        },
        {
            "cell_type": "code",
            "execution_count": 15,
            "metadata": {},
            "outputs": [],
            "source": [
                "# get the tracks\n",
                "tracks = get_artist_tracks(spotify=spotify, artist_id=imagine_dragons_id)  # type: ignore"
            ]
        },
        {
            "cell_type": "code",
            "execution_count": 16,
            "metadata": {},
            "outputs": [
                {
                    "data": {
                        "text/html": [
                            "<div>\n",
                            "<style scoped>\n",
                            "    .dataframe tbody tr th:only-of-type {\n",
                            "        vertical-align: middle;\n",
                            "    }\n",
                            "\n",
                            "    .dataframe tbody tr th {\n",
                            "        vertical-align: top;\n",
                            "    }\n",
                            "\n",
                            "    .dataframe thead th {\n",
                            "        text-align: right;\n",
                            "    }\n",
                            "</style>\n",
                            "<table border=\"1\" class=\"dataframe\">\n",
                            "  <thead>\n",
                            "    <tr style=\"text-align: right;\">\n",
                            "      <th></th>\n",
                            "      <th>name</th>\n",
                            "      <th>popularity</th>\n",
                            "      <th>duration</th>\n",
                            "    </tr>\n",
                            "  </thead>\n",
                            "  <tbody>\n",
                            "    <tr>\n",
                            "      <th>0</th>\n",
                            "      <td>Believer</td>\n",
                            "      <td>81</td>\n",
                            "      <td>3.405767</td>\n",
                            "    </tr>\n",
                            "    <tr>\n",
                            "      <th>1</th>\n",
                            "      <td>Demons</td>\n",
                            "      <td>79</td>\n",
                            "      <td>2.958433</td>\n",
                            "    </tr>\n",
                            "    <tr>\n",
                            "      <th>2</th>\n",
                            "      <td>Thunder</td>\n",
                            "      <td>79</td>\n",
                            "      <td>3.119100</td>\n",
                            "    </tr>\n",
                            "    <tr>\n",
                            "      <th>3</th>\n",
                            "      <td>Bones</td>\n",
                            "      <td>76</td>\n",
                            "      <td>2.754400</td>\n",
                            "    </tr>\n",
                            "    <tr>\n",
                            "      <th>4</th>\n",
                            "      <td>Enemy (with JID) - from the series Arcane Leag...</td>\n",
                            "      <td>75</td>\n",
                            "      <td>2.889683</td>\n",
                            "    </tr>\n",
                            "    <tr>\n",
                            "      <th>5</th>\n",
                            "      <td>Radioactive</td>\n",
                            "      <td>75</td>\n",
                            "      <td>3.113550</td>\n",
                            "    </tr>\n",
                            "    <tr>\n",
                            "      <th>6</th>\n",
                            "      <td>Whatever It Takes</td>\n",
                            "      <td>77</td>\n",
                            "      <td>3.354000</td>\n",
                            "    </tr>\n",
                            "    <tr>\n",
                            "      <th>7</th>\n",
                            "      <td>Natural</td>\n",
                            "      <td>75</td>\n",
                            "      <td>3.157767</td>\n",
                            "    </tr>\n",
                            "    <tr>\n",
                            "      <th>8</th>\n",
                            "      <td>Bad Liar</td>\n",
                            "      <td>75</td>\n",
                            "      <td>4.346217</td>\n",
                            "    </tr>\n",
                            "    <tr>\n",
                            "      <th>9</th>\n",
                            "      <td>On Top Of The World</td>\n",
                            "      <td>71</td>\n",
                            "      <td>3.204667</td>\n",
                            "    </tr>\n",
                            "  </tbody>\n",
                            "</table>\n",
                            "</div>"
                        ],
                        "text/plain": [
                            "                                                name  popularity  duration\n",
                            "0                                           Believer          81  3.405767\n",
                            "1                                             Demons          79  2.958433\n",
                            "2                                            Thunder          79  3.119100\n",
                            "3                                              Bones          76  2.754400\n",
                            "4  Enemy (with JID) - from the series Arcane Leag...          75  2.889683\n",
                            "5                                        Radioactive          75  3.113550\n",
                            "6                                  Whatever It Takes          77  3.354000\n",
                            "7                                            Natural          75  3.157767\n",
                            "8                                           Bad Liar          75  4.346217\n",
                            "9                                On Top Of The World          71  3.204667"
                        ]
                    },
                    "execution_count": 16,
                    "metadata": {},
                    "output_type": "execute_result"
                }
            ],
            "source": [
                "# transform to dataframe \n",
                "df = pd.DataFrame(tracks)\n",
                "df"
            ]
        },
        {
            "cell_type": "markdown",
            "metadata": {},
            "source": [
                "## Graph the data"
            ]
        },
        {
            "cell_type": "code",
            "execution_count": 17,
            "metadata": {},
            "outputs": [
                {
                    "data": {
                        "text/plain": [
                            "<Axes: xlabel='duration', ylabel='popularity'>"
                        ]
                    },
                    "execution_count": 17,
                    "metadata": {},
                    "output_type": "execute_result"
                },
                {
                    "data": {
                        "image/png": "[encoded data removed]",
                        "text/plain": [
                            "<Figure size 640x480 with 1 Axes>"
                        ]
                    },
                    "metadata": {},
                    "output_type": "display_data"
                }
            ],
            "source": [
                "sns.scatterplot(data=df, x=\"duration\", y=\"popularity\")"
            ]
        }
    ],
    "metadata": {
        "kernelspec": {
            "display_name": "venv",
            "language": "python",
            "name": "python3"
        },
        "language_info": {
            "codemirror_mode": {
                "name": "ipython",
                "version": 3
            },
            "file_extension": ".py",
            "mimetype": "text/x-python",
            "name": "python",
            "nbconvert_exporter": "python",
            "pygments_lexer": "ipython3",
            "version": "3.13.1"
        },
        "orig_nbformat": 4
    },
    "nbformat": 4,
    "nbformat_minor": 2
}
